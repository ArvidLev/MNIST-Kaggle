{
  "nbformat": 4,
  "nbformat_minor": 0,
  "metadata": {
    "colab": {
      "name": "MnistKaggle.ipynb",
      "provenance": [],
      "collapsed_sections": [],
      "authorship_tag": "ABX9TyOlTts98PA794n1L4HzJAtJ",
      "include_colab_link": true
    },
    "kernelspec": {
      "name": "python3",
      "display_name": "Python 3"
    },
    "language_info": {
      "name": "python"
    },
    "accelerator": "GPU"
  },
  "cells": [
    {
      "cell_type": "markdown",
      "metadata": {
        "id": "view-in-github",
        "colab_type": "text"
      },
      "source": [
        "<a href=\"https://colab.research.google.com/github/ArvidLev/MNIST-Kaggle/blob/main/MnistKaggle.ipynb\" target=\"_parent\"><img src=\"https://colab.research.google.com/assets/colab-badge.svg\" alt=\"Open In Colab\"/></a>"
      ]
    },
    {
      "cell_type": "markdown",
      "metadata": {
        "id": "wlU6webwqf67"
      },
      "source": [
        "# MNIST Kaggle\n",
        "For this project I am trying to accurately predict the famous MNIST digit data set using CNN. The data can be found and downloaded at https://www.kaggle.com/c/digit-recognizer/data"
      ]
    },
    {
      "cell_type": "code",
      "metadata": {
        "id": "ps8Z0jYsHvW6"
      },
      "source": [
        "import pandas as pd\n",
        "import numpy as np\n",
        "import matplotlib.pyplot as plt\n",
        "import seaborn as sns\n",
        "import tensorflow as tf\n",
        "from tensorflow.keras.preprocessing.image import ImageDataGenerator\n",
        "from sklearn.model_selection import train_test_split\n"
      ],
      "execution_count": null,
      "outputs": []
    },
    {
      "cell_type": "markdown",
      "metadata": {
        "id": "yIB7QJVhq92x"
      },
      "source": [
        "# Loading the data"
      ]
    },
    {
      "cell_type": "code",
      "metadata": {
        "id": "7MEadSIEJUv_"
      },
      "source": [
        "training_images = pd.read_csv('train.csv')\n",
        "testing_images = pd.read_csv('test.csv')"
      ],
      "execution_count": null,
      "outputs": []
    },
    {
      "cell_type": "code",
      "metadata": {
        "id": "GcL5yHb5Jg45"
      },
      "source": [
        "training_labels = training_images.pop('label')"
      ],
      "execution_count": null,
      "outputs": []
    },
    {
      "cell_type": "code",
      "metadata": {
        "colab": {
          "base_uri": "https://localhost:8080/"
        },
        "id": "bE-bzrHzJuik",
        "outputId": "70b50315-f1bb-46a6-c3e5-3eeee1a72ed0"
      },
      "source": [
        "training_images.isnull().any().describe()"
      ],
      "execution_count": null,
      "outputs": [
        {
          "output_type": "execute_result",
          "data": {
            "text/plain": [
              "count       784\n",
              "unique        1\n",
              "top       False\n",
              "freq        784\n",
              "dtype: object"
            ]
          },
          "metadata": {},
          "execution_count": 12
        }
      ]
    },
    {
      "cell_type": "code",
      "metadata": {
        "colab": {
          "base_uri": "https://localhost:8080/"
        },
        "id": "vsb5uXX-J3zx",
        "outputId": "dd523a4f-f17b-45ae-a79d-f69b45ee66ef"
      },
      "source": [
        "testing_images.isnull().any().describe()"
      ],
      "execution_count": null,
      "outputs": [
        {
          "output_type": "execute_result",
          "data": {
            "text/plain": [
              "count       784\n",
              "unique        1\n",
              "top       False\n",
              "freq        784\n",
              "dtype: object"
            ]
          },
          "metadata": {},
          "execution_count": 13
        }
      ]
    },
    {
      "cell_type": "code",
      "metadata": {
        "colab": {
          "base_uri": "https://localhost:8080/"
        },
        "id": "Aq-se7FbMImx",
        "outputId": "81d83f62-cdb4-46f0-be63-abb2b2353d0e"
      },
      "source": [
        "print(training_images.shape, '\\n', testing_images.shape)"
      ],
      "execution_count": null,
      "outputs": [
        {
          "output_type": "stream",
          "name": "stdout",
          "text": [
            "(42000, 784) \n",
            " (28000, 784)\n"
          ]
        }
      ]
    },
    {
      "cell_type": "markdown",
      "metadata": {
        "id": "COq9ytI4tRYK"
      },
      "source": [
        "Split the data into a validation and train set"
      ]
    },
    {
      "cell_type": "code",
      "metadata": {
        "id": "yV0dkSEjQ7XZ",
        "colab": {
          "base_uri": "https://localhost:8080/"
        },
        "outputId": "ca540c9d-3fdb-42ad-ac68-29668ba258b2"
      },
      "source": [
        "train_images, validation_images, train_labels, validation_labels = train_test_split(training_images, training_labels, test_size = 0.4)\n",
        "print('Training Images:', training_images.shape)\n",
        "print('Train Images:', train_images.shape)\n",
        "print('Testing Images:', testing_images.shape)\n",
        "print('Validation Images:', validation_images.shape)"
      ],
      "execution_count": null,
      "outputs": [
        {
          "output_type": "stream",
          "name": "stdout",
          "text": [
            "Training Images: (42000, 784)\n",
            "Train Images: (25200, 784)\n",
            "Testing Images: (28000, 784)\n",
            "Validation Images: (16800, 784)\n"
          ]
        }
      ]
    },
    {
      "cell_type": "markdown",
      "metadata": {
        "id": "kBRjC7PzrMS5"
      },
      "source": [
        "The data comes in row form but we want it to be in (len, 28, 28, 1) form in order use convolutions on it."
      ]
    },
    {
      "cell_type": "code",
      "metadata": {
        "colab": {
          "base_uri": "https://localhost:8080/"
        },
        "id": "SToqMrevKAA1",
        "outputId": "82f5bfa7-3390-40fa-dfb6-2bfe071bbdce"
      },
      "source": [
        "training_images = training_images.to_numpy()\n",
        "train_images = train_images.to_numpy()\n",
        "train_labels = train_labels.to_numpy()\n",
        "validation_images = validation_images.to_numpy()\n",
        "validation_labels = validation_labels.to_numpy()\n",
        "testing_images = testing_images.to_numpy()\n",
        "training_labels = training_labels.to_numpy()\n",
        "train_images = train_images.reshape(25200, 28, 28, 1)\n",
        "validation_images = validation_images.reshape(16800, 28, 28, 1)\n",
        "training_images = training_images.reshape(42000, 28, 28, 1)\n",
        "testing_images = testing_images.reshape(28000, 28, 28, 1)\n",
        "print(training_images.shape)\n",
        "print(testing_images.shape)"
      ],
      "execution_count": null,
      "outputs": [
        {
          "output_type": "stream",
          "name": "stdout",
          "text": [
            "(42000, 28, 28, 1)\n",
            "(28000, 28, 28, 1)\n"
          ]
        }
      ]
    },
    {
      "cell_type": "markdown",
      "metadata": {
        "id": "21LUEN-vrDmI"
      },
      "source": [
        "# Augmentation and preprocessing\n",
        "Here we are variations of the images that we have by zooming in and rotating the images. Also, we scale the images here."
      ]
    },
    {
      "cell_type": "code",
      "metadata": {
        "id": "w9MV0rp-M6Tv"
      },
      "source": [
        "train_datagen = ImageDataGenerator(\n",
        "    rescale = 1.0/255.,\n",
        "    horizontal_flip = False,\n",
        "    rotation_range = 10,\n",
        "    vertical_flip = False,\n",
        "    zoom_range = 0.1,\n",
        "    height_shift_range = 0.1,\n",
        "    fill_mode = 'nearest'\n",
        ")\n",
        "validation_datagen = ImageDataGenerator(\n",
        "    rescale = 1.0/255.\n",
        ")"
      ],
      "execution_count": null,
      "outputs": []
    },
    {
      "cell_type": "markdown",
      "metadata": {
        "id": "Bkm_h2I9rwao"
      },
      "source": [
        "# Model\n",
        "For the evaluation of the model we are only going to go for 5 epochs to save time. We should be able to get a good idea if the model works from this."
      ]
    },
    {
      "cell_type": "code",
      "metadata": {
        "colab": {
          "base_uri": "https://localhost:8080/"
        },
        "id": "wu6lMxGENdDR",
        "outputId": "ab380f34-39e9-4554-8a6c-f312679e18e1"
      },
      "source": [
        "model = tf.keras.Sequential([\n",
        "                             tf.keras.layers.Conv2D(filters = 32, kernel_size = (5,5), activation = 'relu', padding = 'Same' ,input_shape = (28,28,1)),\n",
        "                             tf.keras.layers.Conv2D(filters = 32, kernel_size = (5,5), activation = 'relu', padding = 'same'),\n",
        "                             tf.keras.layers.MaxPooling2D(pool_size = (2,2)),\n",
        "                             tf.keras.layers.Dropout(0.25),\n",
        "\n",
        "                             tf.keras.layers.Conv2D(filters = 64, kernel_size = (3,3), padding = 'Same', activation = 'relu'),\n",
        "                             tf.keras.layers.Conv2D(filters = 64, kernel_size = (3,3), padding = 'Same', activation = 'relu'),\n",
        "                             tf.keras.layers.MaxPooling2D(pool_size = (2,2), strides = (2,2)),\n",
        "                             tf.keras.layers.Dropout(0.25),\n",
        "\n",
        "\n",
        "                             tf.keras.layers.Flatten(),\n",
        "                             tf.keras.layers.Dense(256, activation = 'relu'),\n",
        "                             tf.keras.layers.Dropout(0.5),\n",
        "                             tf.keras.layers.Dense(10, activation = 'softmax')\n",
        "])\n",
        "model.compile(loss = 'sparse_categorical_crossentropy',\n",
        "              optimizer ='adam',\n",
        "              metrics = ['accuracy'])\n",
        "history = model.fit_generator(train_datagen.flow(train_images, train_labels, batch_size = 32),\n",
        "                              epochs = 5,\n",
        "                              steps_per_epoch = int(len(train_images)/32),\n",
        "                              validation_data = validation_datagen.flow(validation_images, validation_labels, batch_size = 32))"
      ],
      "execution_count": null,
      "outputs": [
        {
          "output_type": "stream",
          "name": "stderr",
          "text": [
            "/usr/local/lib/python3.7/dist-packages/keras/engine/training.py:1972: UserWarning: `Model.fit_generator` is deprecated and will be removed in a future version. Please use `Model.fit`, which supports generators.\n",
            "  warnings.warn('`Model.fit_generator` is deprecated and '\n"
          ]
        },
        {
          "output_type": "stream",
          "name": "stdout",
          "text": [
            "Epoch 1/5\n",
            "787/787 [==============================] - 47s 21ms/step - loss: 0.3765 - accuracy: 0.8790 - val_loss: 0.0756 - val_accuracy: 0.9768\n",
            "Epoch 2/5\n",
            "787/787 [==============================] - 16s 21ms/step - loss: 0.1393 - accuracy: 0.9578 - val_loss: 0.0509 - val_accuracy: 0.9835\n",
            "Epoch 3/5\n",
            "787/787 [==============================] - 16s 21ms/step - loss: 0.1046 - accuracy: 0.9679 - val_loss: 0.0384 - val_accuracy: 0.9885\n",
            "Epoch 4/5\n",
            "787/787 [==============================] - 17s 21ms/step - loss: 0.0875 - accuracy: 0.9745 - val_loss: 0.0371 - val_accuracy: 0.9883\n",
            "Epoch 5/5\n",
            "787/787 [==============================] - 17s 21ms/step - loss: 0.0716 - accuracy: 0.9794 - val_loss: 0.0355 - val_accuracy: 0.9899\n"
          ]
        }
      ]
    },
    {
      "cell_type": "markdown",
      "metadata": {
        "id": "HUmXDmFEsALe"
      },
      "source": [
        "# Model Evaluation\n",
        "Lets plot the loss and accuracy plot for the training and validation set."
      ]
    },
    {
      "cell_type": "code",
      "metadata": {
        "id": "JAnbGyisPZcO",
        "colab": {
          "base_uri": "https://localhost:8080/",
          "height": 545
        },
        "outputId": "ab1c8d0b-9a29-4eed-a737-d59e5b07e15a"
      },
      "source": [
        "%matplotlib inline\n",
        "acc = history.history['accuracy']\n",
        "val_acc = history.history['val_accuracy']\n",
        "loss = history.history['loss']\n",
        "val_loss = history.history['val_loss']\n",
        "epochs = range(len(acc))\n",
        "\n",
        "plt.plot(epochs, acc, 'r', label='Training accuracy')\n",
        "plt.plot(epochs, val_acc, 'b', label='Validation accuracy')\n",
        "plt.title('Training and validation accuracy')\n",
        "plt.legend()\n",
        "plt.figure()\n",
        "\n",
        "plt.plot(epochs, loss, 'r', label='Training Loss')\n",
        "plt.plot(epochs, val_loss, 'b', label='Validation Loss')\n",
        "plt.title('Training and validation loss')\n",
        "plt.legend()\n",
        "\n",
        "plt.show()"
      ],
      "execution_count": null,
      "outputs": [
        {
          "output_type": "display_data",
          "data": {
            "image/png": "[encoded data removed]",
            "text/plain": [
              "<Figure size 432x288 with 1 Axes>"
            ]
          },
          "metadata": {
            "needs_background": "light"
          }
        },
        {
          "output_type": "display_data",
          "data": {
            "image/png": "[encoded data removed]",
            "text/plain": [
              "<Figure size 432x288 with 1 Axes>"
            ]
          },
          "metadata": {
            "needs_background": "light"
          }
        }
      ]
    },
    {
      "cell_type": "markdown",
      "metadata": {
        "id": "ySRv-rErspo0"
      },
      "source": [
        "# Final fit\n",
        "Now we fit the whole training set and we go for 30 epochs."
      ]
    },
    {
      "cell_type": "code",
      "metadata": {
        "id": "YfZTjutRPenW",
        "colab": {
          "base_uri": "https://localhost:8080/"
        },
        "outputId": "3d6ac1e5-c5b6-465b-9949-2a1d7f203fc0"
      },
      "source": [
        "history = model.fit_generator(train_datagen.flow(training_images, training_labels, batch_size = 32),\n",
        "                              epochs = 30,\n",
        "                              steps_per_epoch = int(len(training_images)/32)\n",
        "                              )"
      ],
      "execution_count": null,
      "outputs": [
        {
          "output_type": "stream",
          "name": "stdout",
          "text": [
            "Epoch 1/30\n",
            "   4/1312 [..............................] - ETA: 25s - loss: 0.0784 - accuracy: 0.9844"
          ]
        },
        {
          "output_type": "stream",
          "name": "stderr",
          "text": [
            "/usr/local/lib/python3.7/dist-packages/keras/engine/training.py:1972: UserWarning: `Model.fit_generator` is deprecated and will be removed in a future version. Please use `Model.fit`, which supports generators.\n",
            "  warnings.warn('`Model.fit_generator` is deprecated and '\n"
          ]
        },
        {
          "output_type": "stream",
          "name": "stdout",
          "text": [
            "1312/1312 [==============================] - 23s 18ms/step - loss: 0.0695 - accuracy: 0.9802\n",
            "Epoch 2/30\n",
            "1312/1312 [==============================] - 24s 18ms/step - loss: 0.0585 - accuracy: 0.9834\n",
            "Epoch 3/30\n",
            "1312/1312 [==============================] - 23s 18ms/step - loss: 0.0565 - accuracy: 0.9833\n",
            "Epoch 4/30\n",
            "1312/1312 [==============================] - 24s 18ms/step - loss: 0.0505 - accuracy: 0.9850\n",
            "Epoch 5/30\n",
            "1312/1312 [==============================] - 24s 18ms/step - loss: 0.0486 - accuracy: 0.9855\n",
            "Epoch 6/30\n",
            "1312/1312 [==============================] - 24s 18ms/step - loss: 0.0448 - accuracy: 0.9870\n",
            "Epoch 7/30\n",
            "1312/1312 [==============================] - 24s 18ms/step - loss: 0.0417 - accuracy: 0.9876\n",
            "Epoch 8/30\n",
            "1312/1312 [==============================] - 24s 18ms/step - loss: 0.0456 - accuracy: 0.9868\n",
            "Epoch 9/30\n",
            "1312/1312 [==============================] - 24s 18ms/step - loss: 0.0431 - accuracy: 0.9871\n",
            "Epoch 10/30\n",
            "1312/1312 [==============================] - 23s 18ms/step - loss: 0.0428 - accuracy: 0.9887\n",
            "Epoch 11/30\n",
            "1312/1312 [==============================] - 24s 18ms/step - loss: 0.0419 - accuracy: 0.9883\n",
            "Epoch 12/30\n",
            "1312/1312 [==============================] - 24s 18ms/step - loss: 0.0393 - accuracy: 0.9882\n",
            "Epoch 13/30\n",
            "1312/1312 [==============================] - 24s 18ms/step - loss: 0.0380 - accuracy: 0.9892\n",
            "Epoch 14/30\n",
            "1312/1312 [==============================] - 24s 19ms/step - loss: 0.0393 - accuracy: 0.9883\n",
            "Epoch 15/30\n",
            "1312/1312 [==============================] - 24s 19ms/step - loss: 0.0387 - accuracy: 0.9888\n",
            "Epoch 16/30\n",
            "1312/1312 [==============================] - 24s 18ms/step - loss: 0.0341 - accuracy: 0.9895\n",
            "Epoch 17/30\n",
            "1312/1312 [==============================] - 24s 18ms/step - loss: 0.0357 - accuracy: 0.9896\n",
            "Epoch 18/30\n",
            "1312/1312 [==============================] - 24s 18ms/step - loss: 0.0360 - accuracy: 0.9892\n",
            "Epoch 19/30\n",
            "1312/1312 [==============================] - 23s 18ms/step - loss: 0.0370 - accuracy: 0.9893\n",
            "Epoch 20/30\n",
            "1312/1312 [==============================] - 24s 18ms/step - loss: 0.0365 - accuracy: 0.9894\n",
            "Epoch 21/30\n",
            "1312/1312 [==============================] - 24s 18ms/step - loss: 0.0348 - accuracy: 0.9899\n",
            "Epoch 22/30\n",
            "1312/1312 [==============================] - 23s 18ms/step - loss: 0.0344 - accuracy: 0.9899\n",
            "Epoch 23/30\n",
            "1312/1312 [==============================] - 24s 18ms/step - loss: 0.0344 - accuracy: 0.9901\n",
            "Epoch 24/30\n",
            "1312/1312 [==============================] - 23s 18ms/step - loss: 0.0326 - accuracy: 0.9904\n",
            "Epoch 25/30\n",
            "1312/1312 [==============================] - 24s 18ms/step - loss: 0.0347 - accuracy: 0.9905\n",
            "Epoch 26/30\n",
            "1312/1312 [==============================] - 24s 18ms/step - loss: 0.0354 - accuracy: 0.9896\n",
            "Epoch 27/30\n",
            "1312/1312 [==============================] - 24s 18ms/step - loss: 0.0336 - accuracy: 0.9904\n",
            "Epoch 28/30\n",
            "1312/1312 [==============================] - 24s 18ms/step - loss: 0.0316 - accuracy: 0.9906\n",
            "Epoch 29/30\n",
            "1312/1312 [==============================] - 24s 18ms/step - loss: 0.0323 - accuracy: 0.9906\n",
            "Epoch 30/30\n",
            "1312/1312 [==============================] - 24s 19ms/step - loss: 0.0355 - accuracy: 0.9902\n"
          ]
        }
      ]
    },
    {
      "cell_type": "markdown",
      "metadata": {
        "id": "J02hrLkDszZL"
      },
      "source": [
        "# Predictions"
      ]
    },
    {
      "cell_type": "code",
      "metadata": {
        "colab": {
          "base_uri": "https://localhost:8080/"
        },
        "id": "URaazTody-oi",
        "outputId": "3dfe492d-7df7-455a-b45f-b63c7a2db745"
      },
      "source": [
        "predictions = model.predict(testing_images)\n",
        "predictions"
      ],
      "execution_count": null,
      "outputs": [
        {
          "output_type": "execute_result",
          "data": {
            "text/plain": [
              "array([[0., 0., 1., ..., 0., 0., 0.],\n",
              "       [1., 0., 0., ..., 0., 0., 0.],\n",
              "       [0., 0., 0., ..., 0., 0., 1.],\n",
              "       ...,\n",
              "       [0., 0., 0., ..., 0., 0., 0.],\n",
              "       [0., 0., 0., ..., 0., 0., 1.],\n",
              "       [0., 0., 1., ..., 0., 0., 0.]], dtype=float32)"
            ]
          },
          "metadata": {},
          "execution_count": 27
        }
      ]
    },
    {
      "cell_type": "code",
      "metadata": {
        "id": "1kT3NWm10DaA"
      },
      "source": [
        "predictions = np.argmax(predictions,axis = 1)\n",
        "\n",
        "predictions = pd.Series(predictions,name=\"Label\")"
      ],
      "execution_count": null,
      "outputs": []
    },
    {
      "cell_type": "code",
      "metadata": {
        "id": "NNSxeK9D0Flv"
      },
      "source": [
        "submission = pd.concat([pd.Series(range(1,28001),name = \"ImageId\"),predictions],axis = 1)\n",
        "\n",
        "submission.to_csv(\"cnn_mnist_datagen2.csv\",index=False)"
      ],
      "execution_count": null,
      "outputs": []
    },
    {
      "cell_type": "markdown",
      "metadata": {
        "id": "u9DPIP9os7M8"
      },
      "source": [
        "This got a 0.97878 score on the kaggle competition."
      ]
    }
  ]
}